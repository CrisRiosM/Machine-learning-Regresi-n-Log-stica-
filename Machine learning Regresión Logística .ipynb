{
 "cells": [
  {
   "cell_type": "code",
   "execution_count": null,
   "metadata": {},
   "outputs": [],
   "source": [
    "# aprenderemos un método de aprendizaje automático llamado\n",
    "# Regresión Logística que se usa para la clasificación.\n",
    "# Al examinar este método, responderemos específicamente a estas tres preguntas.\n",
    "# ¿Qué es la regresión logística?\n",
    "# ¿Qué tipo de problemas se pueden resolver mediante regresión logística?\n",
    "# ¿En qué situaciones utilizamos la regresión logística?\n",
    "\n",
    "# La regresión logística es una técnica estadística y de aprendizaje automático para clasificar registros\n",
    "# de un conjunto de datos en función de los valores de los campos de entrada.\n",
    "# Digamos que tenemos un conjunto de datos de telecomunicaciones que nos gustaría\n",
    "# analizar para comprender qué clientes podrían dejarnos el próximo mes.\n",
    "# Se trata de datos históricos de clientes donde cada fila representa un cliente.\n",
    "# Imagine que es analista de esta empresa y tiene que averiguar quién se va\n",
    "# y por qué.\n",
    "# Utilizará el conjunto de datos para crear un modelo basado\n",
    "# en registros históricos y lo usará para predecir la rotación futura dentro del grupo de clientes.\n",
    "# El conjunto de datos incluye información sobre los servicios en los que\n",
    "# se ha registrado cada cliente, información de la cuenta del cliente, información demográfica\n",
    "# sobre los clientes, como sexo y rango de edad, y también clientes que han dejado la empresa\n",
    "# dentro del último mes.\n",
    "\n",
    "# La regresión logística es análoga a la regresión lineal, pero intenta predecir un campo\n",
    "# objetivo categórico o discreto en lugar de uno numérico.Pero en la regresión logística, \n",
    "# predecimos una variable que es binaria como sí/no, verdadero/falso,\n",
    "# exitosa o no exitosa, embarazada/no embarazada,\n",
    "# y así sucesivamente, todos los cuales se pueden codificar como cero o uno.\n",
    "\n",
    "# En regresión logística, las variables independientes deben ser continuas.\n",
    "# Si son categóricos, deben estar codificados como indicadores o ficticios.\n",
    "# Esto significa que tenemos que transformarlos en algún valor continuo.\n",
    "\n",
    "# Casos de uso\n",
    "\n",
    "# Por ejemplo, para predecir la probabilidad de que una persona \n",
    "# sufra un ataque cardíaco dentro de un período de\n",
    "# tiempo específico, según nuestro conocimiento de la edad,\n",
    "# el sexo y el índice de masa corporal de la persona.\n",
    "# O para predecir la probabilidad de mortalidad en un \n",
    "# paciente lesionado o para predecir si un paciente\n",
    "# tiene una enfermedad determinada, como diabetes, en función de\n",
    "# las características observadas de ese paciente, como el peso,\n",
    "# la altura, la presión arterial y los resultados de varios análisis de sangre, etc.\n",
    "\n",
    "# En un contexto de marketing, podemos usarlo para predecir \n",
    "# la probabilidad de que un cliente compre\n",
    "# un producto o suspenda una suscripción, \n",
    "# como hicimos en nuestro ejemplo de abandono.\n",
    "\n",
    "# También podemos usar la regresión logística para predecir la \n",
    "# probabilidad de falla de un proceso, sistema o producto dado. \n",
    "# Incluso podemos usarlo para predecir la probabilidad \n",
    "# de que un propietario deje de pagar una hipoteca."
   ]
  },
  {
   "cell_type": "code",
   "execution_count": null,
   "metadata": {},
   "outputs": [],
   "source": [
    "# La pregunta es, ¿cuándo deberíamos utilizar la regresión logística?\n",
    "# Aquí hay cuatro situaciones en las que la regresión logística es un buen candidato.\n",
    "\n",
    "# Primero, cuando el campo de destino en sus datos es categórico o específicamente es binario.\n",
    "\n",
    "# En segundo lugar, necesita la probabilidad de su predicción.\n",
    "# Por ejemplo, si desea saber cuál es la probabilidad de que un cliente compre un producto.\n",
    "# La regresión logística devuelve una puntuación de probabilidad entre cero y uno para una muestra de\n",
    "# datos determinada.\n",
    "# De hecho, la regresión logística predice la probabilidad de esa muestra y asignamos los\n",
    "# casos a una clase discreta en función de esa probabilidad.\n",
    "\n",
    "# En tercer lugar, si sus datos se pueden separar linealmente.\n",
    "# El límite de decisión de la regresión logística es una línea, un plano o un hiperplano.\n",
    "# Un clasificador ordenará todos los puntos de un lado del límite de decisión como pertenecientes\n",
    "# a una clase y todos los del otro lado como pertenecientes a la otra clase.\n",
    "\n",
    "# En cuarto lugar, debe comprender el impacto de una función.\n",
    "# Puede seleccionar las mejores características basándose en la significación estadística de\n",
    "# los parámetros o coeficientes del modelo de regresión logística\n",
    "# De hecho, nos permite comprender el impacto que tiene una variable independiente\n",
    "# sobre la variable dependiente mientras controla otras variables independientes."
   ]
  },
  {
   "cell_type": "code",
   "execution_count": null,
   "metadata": {},
   "outputs": [],
   "source": [
    "# Función sigmoid y coste del modelo\n",
    "\n",
    "# La función sigmoid,también llamada la función logística,se asemeja a la función de paso y\n",
    "# se utiliza en la siguiente expresión en la regresión logística.\n",
    "# La función sigmoid se ve un poco complicada al principio,pero no se preocupe en memorizarla\n",
    "# tendrá sentido después de trabajar con ella.\n",
    "# Fíjese en que en la ecuación sigmoid,cuando\n",
    "# θ ^ T X se hace muy grande,el [e] ^ (-θ ^ T X) en el denominador de la fracción se convierte en\n",
    "# casi cero,y el valor de la función sigmoid se acerca más a 1.\n",
    "# # Si θ ^ T X es muy pequeño,la función sigmoid se acerca a cero.\n",
    "\n",
    "# Representando en el trazado sigmoide,cuando θ ^ T X,se hace más grande,el valor de la función sigmoid\n",
    "# se acerca a 1,y también,si el θ ^ T X es muy pequeño,la función sigmoid\n",
    "# se acerca a cero. Por lo tanto,la salida de la función sigmoid es siempre\n",
    "# entre 0 y 1,lo que hace que sea apropiado interpretar los resultados como probabilidades.\n",
    "# Es obvio que cuando el resultado de la función sigmoid se acerca más a 1,la probabilidad\n",
    "# de y= 1,dada x,sube,y en contraste,cuando el valor sigmoid está más cerca de cero,\n",
    "# la probabilidad de y= 1,dada x,es muy pequeña.\n",
    "# Entonces,¿cuál es la salida de nuestro modelo cuando usamos la función sigmoid?\n",
    "# En la regresión logística,modelamos la probabilidad de que una entrada (X) pertenezca a la clase por defecto\n",
    "# (Y= 1),y podemos escribirlo formalmente como,P(Y=1|X).\n",
    "# También podemos escribir P (y= 0 | X) = 1-P (y= 1 |x). Por ejemplo,la probabilidad de que un cliente\n",
    "# permanezca con la compañía se puede mostrar como la probabilidad de abandono es igual a 1 dado el ingreso de un cliente\n",
    "# y la edad,que puede ser,por ejemplo,0.8. Y la probabilidad de abandono es 0,para el\n",
    "# mismo cliente,teniendo en cuenta que los ingresos y la edad de un cliente,se puede calcular como 1-0.8 = 0.2.\n",
    "# Por lo tanto,nuestro trabajo es entrenar al modelo para que establezca sus valores de parámetros de tal manera que\n",
    "# nuestro modelo es una buena estimación de P (y= 1 x). De hecho,esto es lo que un buen modelo clasificador\n",
    "# construida por regresión logística se supone que debe hacer por nosotros.\n",
    "# Además,debe ser una buena estimación de P (y=0 x) que se puede mostrar como 1-σ (θ ^ T X).\n",
    "# Ahora,la pregunta es: ¿Cómo podemos lograr esto?\n",
    "# Podemos encontrar 𝜃 través del proceso de entrenamiento,así que vamos a ver cuál es dicho proceso.\n",
    "# Paso 1. Inicializar el vector 𝜃 con valores aleatorios,como se hace con la mayoría de los algoritmos de aprendizaje automático,\n",
    "# por ejemplo,−1 o 2.\n",
    "# Paso 2. Calcule la salida del modelo,que es σ (θ ^ T X),para un cliente de muestra en el\n",
    "# conjunto de formación. X en θ ^ T X son los valores de vector de característica -- para\n",
    "# ,por ejemplo,la edad y los ingresos del cliente,por ejemplo [ 2,5].\n",
    "# Y θ es la confianza o el peso que ha establecido en el paso anterior.\n",
    "# La salida de esta ecuación es el valor de la predicción ... en otras palabras,la probabilidad\n",
    "# que el cliente pertenece a la clase 1.\n",
    "# Paso 3. Comparar la salida de nuestro modelo,y ^,que podría ser un valor de,digamos,0.7,\n",
    "# con la etiqueta real del cliente,que es,por ejemplo,1 para abandono.\n",
    "# Luego,registre la diferencia como el error de nuestro modelo para este cliente,que sería 1-0.7,\n",
    "# que por supuesto es igual a 0.3. Este es el error para sólo un cliente dentro del\n",
    "# conjunto de datos.\n",
    "# Paso. 4. Calcular el error para todos los clientes tal como lo hicimos en los pasos anteriores,y añadimos\n",
    "# estos errores. El error total es el coste de su modelo,\n",
    "# y se calcula mediante la función de coste del modelo. La función de coste,por cierto,representa básicamente\n",
    "# ¿Cómo calcular el error del modelo,que es la diferencia entre el real y el\n",
    "# los valores pronosticados del modelo. Por lo tanto,el costo muestra lo mal que se encuentra el modelo\n",
    "# estimación de las etiquetas del cliente. Por lo tanto,más bajo es el costo,mejor\n",
    "# el modelo está en la estimación correcta de las etiquetas del cliente.\n",
    "# Por lo tanto,lo que queremos hacer es tratar de minimizar este costo.\n",
    "# Paso 5. Pero,debido a que los valores iniciales para θ fueron elegidos al azar,es muy probable\n",
    "# que la función de coste es muy alta. Por lo tanto,cambiamos la forma de ser de tal manera que esperemos\n",
    "# reducir el coste total.\n",
    "# Paso 6. Después de cambiar los valores de θ,volvemos al paso 2.\n",
    "# A continuación,empezamos otra iteración y calculamos de nuevo el coste del modelo.\n",
    "# Y seguimos haciendo esos pasos una y otra vez,cambiando los valores de θ cada vez,hasta que\n",
    "# el coste es lo suficientemente bajo. Por lo tanto,esto plantea dos preguntas: en primer lugar,\" Cómo\n",
    "# ¿Podemos cambiar los valores de θ de modo que el coste se reduzca en las iteraciones? \"\n",
    "# Y en segundo lugar,\" ¿Cuándo debemos detener las iteraciones? \" Hay diferentes maneras de cambiar los valores\n",
    "# de θ,pero una de las formas más populares es la ascendencia gradiente.\n",
    "# Además,hay varias formas de detener las iteraciones,pero esencialmente se detiene la formación mediante el cálculo\n",
    "# la precisión de su modelo,y detenerlo cuando sea satisfactorio."
   ]
  },
  {
   "cell_type": "code",
   "execution_count": 1,
   "metadata": {},
   "outputs": [],
   "source": [
    "# Entrenamiento de regresión logística\n",
    "\n",
    "# Discutiremos cómo cambiar\n",
    "# los parámetros del modelo para estimar mejor el resultado.\n",
    "# Finalmente, hablaremos de la función de costo y el descenso del gradiente en\n",
    "# regresión logística como una forma de optimizar el modelo.\n",
    "\n",
    "# El principal objetivo del entrenamiento y\n",
    "# la regresión logística es cambiar los parámetros del modelo,\n",
    "# para ser la mejor estimación de las etiquetas\n",
    "# de las muestras en el conjunto de datos.\n"
   ]
  },
  {
   "cell_type": "code",
   "execution_count": null,
   "metadata": {},
   "outputs": [],
   "source": [
    "# Analizemos lo siguiente\n",
    "\n",
    "# ¿cómo minimizamos la función de coste del modelo?\n",
    "# La respuesta es, usando un enfoque de optimización.\n",
    "# Hay diferentes enfoques de optimización,\n",
    "# pero usamos uno de los enfoques más famosos y efectivos aquí, el gradiente descendente.\n",
    "# La siguiente pregunta es,\n",
    "# ¿qué es el gradiente descendente?\n",
    "# En general, el gradiente descendente es\n",
    "# un enfoque iterativo para encontrar el mínimo de una función.\n",
    "# Específicamente en nuestro caso el gradiente\n",
    "# descendente es una técnica para usar la derivada de\n",
    "# una función de costo para cambiar los valores de\n",
    "# los parámetros para minimizar el costo o el error.\n",
    "# Gradient descent is a first-order iterative optimization algorithm for \n",
    "# finding a local minimum of a differentiable function."
   ]
  },
  {
   "cell_type": "code",
   "execution_count": null,
   "metadata": {},
   "outputs": [],
   "source": [
    "# Regresión Logística con Python\n",
    "\n",
    "# Aquí aprenderás Regresión Logística, para luego, crear un modelo basado \n",
    "# en datos de telecomunicaciones para predecir cuándo los clientes buscarán \n",
    "# otro competidor de forma tal de poder tomar alguna decisión para retenerlos.\n",
    "\n",
    "# El objetivo del algoritmo de Regresión Logística, es encontrar los mejores parámetros θ, para ℎ_θ(𝑥) = 𝜎({θ^TX}), \n",
    "# de forma tal de que el modelo prediga lo mejor posible la clase de cada caso.\n"
   ]
  },
  {
   "cell_type": "code",
   "execution_count": 1,
   "metadata": {},
   "outputs": [],
   "source": [
    "# Cliente churn con Regresión Logística\n",
    "\n",
    "# Una compañía de telecomunicaciones está preocupada por el número de clientes \n",
    "# que dejan sus líneas fijas de negocio por las de competidores de cable. \n",
    "# Ellos necesitan entender quién se está yendo. Imagina que eres un analista \n",
    "# en esta compañía y que tienes que descubrir quién es el cliente que se va y por qué\n",
    "\n",
    "# Primero, importemos las librerías necesarias:\n",
    "\n",
    "import pandas as pd\n",
    "import pylab as pl\n",
    "import numpy as np\n",
    "import scipy.optimize as opt\n",
    "from sklearn import preprocessing\n",
    "%matplotlib inline \n",
    "import matplotlib.pyplot as plt"
   ]
  },
  {
   "cell_type": "code",
   "execution_count": null,
   "metadata": {},
   "outputs": [],
   "source": [
    "# Acerca del set de datos\n",
    "\n",
    "# Utilizaremos datos de las telecomunicaciones para poder predecir el cliente churn. \n",
    "# Estos son datos históricos de clientes donde cada fila representa un cliente. \n",
    "# Los datos son fáciles de comprender, y podrás descubrir conclusiones \n",
    "# que puedes usar de inmediato. Generalmente, es menos caro mantener \n",
    "# clientes que conseguir nuevos, así que el foco de este análisis es \n",
    "# predecir los clientes que se quedarían en la compañía.\n",
    "\n",
    "# Estos datos proveen información que ayudarán a predecir comportamientos \n",
    "# que retendrán a los clientes. Puedes analizar toda la información \n",
    "# relevante del cliente y desarrollar programas de retención centrados \n",
    "# en los clientes.\n",
    "\n",
    "# Los datos incluyen información acerca de:\n",
    "\n",
    "# Clientes que se fueron el último mes – la columna se llama Churn\n",
    "# Los servicios que cada cliente ha contratado – teléfono, líneas múltiples, \n",
    "# internet, seguridad online, resguardo online, protección de dispositivos, \n",
    "# soporte técnico y streaming de TV y películas\n",
    "# Información de la cuenta del cliente - cuánto hace que es cliente, contrato, \n",
    "# método de pago, facturación digital, cargos mensuales y cargos totales\n",
    "# Información demográfica de los clientes – sexo, rango de edad y si tienen \n",
    "# pareja y dependientes\n",
    "\n"
   ]
  },
  {
   "cell_type": "code",
   "execution_count": null,
   "metadata": {},
   "outputs": [],
   "source": [
    "# Cargar los datos Churn de la Telco\n",
    "# Telco Churn es un archivo de datos ficticio que trata sobre los esfuerzos de una compañía \n",
    "# de telecomunicaciones para reducir la huída de sus clientes. Cada caso corresponde a un \n",
    "# cliente y se guarda información demográfica e información referente al uso del servicio. \n",
    "# Antes de trabajar con los datos, debes utilizar la URL para obtener el archivo ChurnData.csv."
   ]
  },
  {
   "cell_type": "code",
   "execution_count": 6,
   "metadata": {},
   "outputs": [
    {
     "data": {
      "text/html": [
       "<div>\n",
       "<style scoped>\n",
       "    .dataframe tbody tr th:only-of-type {\n",
       "        vertical-align: middle;\n",
       "    }\n",
       "\n",
       "    .dataframe tbody tr th {\n",
       "        vertical-align: top;\n",
       "    }\n",
       "\n",
       "    .dataframe thead th {\n",
       "        text-align: right;\n",
       "    }\n",
       "</style>\n",
       "<table border=\"1\" class=\"dataframe\">\n",
       "  <thead>\n",
       "    <tr style=\"text-align: right;\">\n",
       "      <th></th>\n",
       "      <th>tenure</th>\n",
       "      <th>age</th>\n",
       "      <th>address</th>\n",
       "      <th>income</th>\n",
       "      <th>ed</th>\n",
       "      <th>employ</th>\n",
       "      <th>equip</th>\n",
       "      <th>callcard</th>\n",
       "      <th>wireless</th>\n",
       "      <th>longmon</th>\n",
       "      <th>...</th>\n",
       "      <th>pager</th>\n",
       "      <th>internet</th>\n",
       "      <th>callwait</th>\n",
       "      <th>confer</th>\n",
       "      <th>ebill</th>\n",
       "      <th>loglong</th>\n",
       "      <th>logtoll</th>\n",
       "      <th>lninc</th>\n",
       "      <th>custcat</th>\n",
       "      <th>churn</th>\n",
       "    </tr>\n",
       "  </thead>\n",
       "  <tbody>\n",
       "    <tr>\n",
       "      <th>0</th>\n",
       "      <td>11.0</td>\n",
       "      <td>33.0</td>\n",
       "      <td>7.0</td>\n",
       "      <td>136.0</td>\n",
       "      <td>5.0</td>\n",
       "      <td>5.0</td>\n",
       "      <td>0.0</td>\n",
       "      <td>1.0</td>\n",
       "      <td>1.0</td>\n",
       "      <td>4.40</td>\n",
       "      <td>...</td>\n",
       "      <td>1.0</td>\n",
       "      <td>0.0</td>\n",
       "      <td>1.0</td>\n",
       "      <td>1.0</td>\n",
       "      <td>0.0</td>\n",
       "      <td>1.482</td>\n",
       "      <td>3.033</td>\n",
       "      <td>4.913</td>\n",
       "      <td>4.0</td>\n",
       "      <td>1.0</td>\n",
       "    </tr>\n",
       "    <tr>\n",
       "      <th>1</th>\n",
       "      <td>33.0</td>\n",
       "      <td>33.0</td>\n",
       "      <td>12.0</td>\n",
       "      <td>33.0</td>\n",
       "      <td>2.0</td>\n",
       "      <td>0.0</td>\n",
       "      <td>0.0</td>\n",
       "      <td>0.0</td>\n",
       "      <td>0.0</td>\n",
       "      <td>9.45</td>\n",
       "      <td>...</td>\n",
       "      <td>0.0</td>\n",
       "      <td>0.0</td>\n",
       "      <td>0.0</td>\n",
       "      <td>0.0</td>\n",
       "      <td>0.0</td>\n",
       "      <td>2.246</td>\n",
       "      <td>3.240</td>\n",
       "      <td>3.497</td>\n",
       "      <td>1.0</td>\n",
       "      <td>1.0</td>\n",
       "    </tr>\n",
       "    <tr>\n",
       "      <th>2</th>\n",
       "      <td>23.0</td>\n",
       "      <td>30.0</td>\n",
       "      <td>9.0</td>\n",
       "      <td>30.0</td>\n",
       "      <td>1.0</td>\n",
       "      <td>2.0</td>\n",
       "      <td>0.0</td>\n",
       "      <td>0.0</td>\n",
       "      <td>0.0</td>\n",
       "      <td>6.30</td>\n",
       "      <td>...</td>\n",
       "      <td>0.0</td>\n",
       "      <td>0.0</td>\n",
       "      <td>0.0</td>\n",
       "      <td>1.0</td>\n",
       "      <td>0.0</td>\n",
       "      <td>1.841</td>\n",
       "      <td>3.240</td>\n",
       "      <td>3.401</td>\n",
       "      <td>3.0</td>\n",
       "      <td>0.0</td>\n",
       "    </tr>\n",
       "    <tr>\n",
       "      <th>3</th>\n",
       "      <td>38.0</td>\n",
       "      <td>35.0</td>\n",
       "      <td>5.0</td>\n",
       "      <td>76.0</td>\n",
       "      <td>2.0</td>\n",
       "      <td>10.0</td>\n",
       "      <td>1.0</td>\n",
       "      <td>1.0</td>\n",
       "      <td>1.0</td>\n",
       "      <td>6.05</td>\n",
       "      <td>...</td>\n",
       "      <td>1.0</td>\n",
       "      <td>1.0</td>\n",
       "      <td>1.0</td>\n",
       "      <td>1.0</td>\n",
       "      <td>1.0</td>\n",
       "      <td>1.800</td>\n",
       "      <td>3.807</td>\n",
       "      <td>4.331</td>\n",
       "      <td>4.0</td>\n",
       "      <td>0.0</td>\n",
       "    </tr>\n",
       "    <tr>\n",
       "      <th>4</th>\n",
       "      <td>7.0</td>\n",
       "      <td>35.0</td>\n",
       "      <td>14.0</td>\n",
       "      <td>80.0</td>\n",
       "      <td>2.0</td>\n",
       "      <td>15.0</td>\n",
       "      <td>0.0</td>\n",
       "      <td>1.0</td>\n",
       "      <td>0.0</td>\n",
       "      <td>7.10</td>\n",
       "      <td>...</td>\n",
       "      <td>0.0</td>\n",
       "      <td>0.0</td>\n",
       "      <td>1.0</td>\n",
       "      <td>1.0</td>\n",
       "      <td>0.0</td>\n",
       "      <td>1.960</td>\n",
       "      <td>3.091</td>\n",
       "      <td>4.382</td>\n",
       "      <td>3.0</td>\n",
       "      <td>0.0</td>\n",
       "    </tr>\n",
       "    <tr>\n",
       "      <th>...</th>\n",
       "      <td>...</td>\n",
       "      <td>...</td>\n",
       "      <td>...</td>\n",
       "      <td>...</td>\n",
       "      <td>...</td>\n",
       "      <td>...</td>\n",
       "      <td>...</td>\n",
       "      <td>...</td>\n",
       "      <td>...</td>\n",
       "      <td>...</td>\n",
       "      <td>...</td>\n",
       "      <td>...</td>\n",
       "      <td>...</td>\n",
       "      <td>...</td>\n",
       "      <td>...</td>\n",
       "      <td>...</td>\n",
       "      <td>...</td>\n",
       "      <td>...</td>\n",
       "      <td>...</td>\n",
       "      <td>...</td>\n",
       "      <td>...</td>\n",
       "    </tr>\n",
       "    <tr>\n",
       "      <th>195</th>\n",
       "      <td>55.0</td>\n",
       "      <td>44.0</td>\n",
       "      <td>24.0</td>\n",
       "      <td>83.0</td>\n",
       "      <td>1.0</td>\n",
       "      <td>23.0</td>\n",
       "      <td>0.0</td>\n",
       "      <td>1.0</td>\n",
       "      <td>0.0</td>\n",
       "      <td>17.35</td>\n",
       "      <td>...</td>\n",
       "      <td>0.0</td>\n",
       "      <td>0.0</td>\n",
       "      <td>0.0</td>\n",
       "      <td>1.0</td>\n",
       "      <td>0.0</td>\n",
       "      <td>2.854</td>\n",
       "      <td>3.199</td>\n",
       "      <td>4.419</td>\n",
       "      <td>3.0</td>\n",
       "      <td>0.0</td>\n",
       "    </tr>\n",
       "    <tr>\n",
       "      <th>196</th>\n",
       "      <td>34.0</td>\n",
       "      <td>23.0</td>\n",
       "      <td>3.0</td>\n",
       "      <td>24.0</td>\n",
       "      <td>1.0</td>\n",
       "      <td>7.0</td>\n",
       "      <td>0.0</td>\n",
       "      <td>1.0</td>\n",
       "      <td>0.0</td>\n",
       "      <td>6.00</td>\n",
       "      <td>...</td>\n",
       "      <td>0.0</td>\n",
       "      <td>0.0</td>\n",
       "      <td>1.0</td>\n",
       "      <td>1.0</td>\n",
       "      <td>0.0</td>\n",
       "      <td>1.792</td>\n",
       "      <td>3.332</td>\n",
       "      <td>3.178</td>\n",
       "      <td>3.0</td>\n",
       "      <td>0.0</td>\n",
       "    </tr>\n",
       "    <tr>\n",
       "      <th>197</th>\n",
       "      <td>6.0</td>\n",
       "      <td>32.0</td>\n",
       "      <td>10.0</td>\n",
       "      <td>47.0</td>\n",
       "      <td>1.0</td>\n",
       "      <td>10.0</td>\n",
       "      <td>0.0</td>\n",
       "      <td>1.0</td>\n",
       "      <td>0.0</td>\n",
       "      <td>3.85</td>\n",
       "      <td>...</td>\n",
       "      <td>0.0</td>\n",
       "      <td>0.0</td>\n",
       "      <td>1.0</td>\n",
       "      <td>1.0</td>\n",
       "      <td>0.0</td>\n",
       "      <td>1.348</td>\n",
       "      <td>3.168</td>\n",
       "      <td>3.850</td>\n",
       "      <td>3.0</td>\n",
       "      <td>0.0</td>\n",
       "    </tr>\n",
       "    <tr>\n",
       "      <th>198</th>\n",
       "      <td>24.0</td>\n",
       "      <td>30.0</td>\n",
       "      <td>0.0</td>\n",
       "      <td>25.0</td>\n",
       "      <td>4.0</td>\n",
       "      <td>5.0</td>\n",
       "      <td>0.0</td>\n",
       "      <td>1.0</td>\n",
       "      <td>1.0</td>\n",
       "      <td>8.70</td>\n",
       "      <td>...</td>\n",
       "      <td>1.0</td>\n",
       "      <td>1.0</td>\n",
       "      <td>1.0</td>\n",
       "      <td>1.0</td>\n",
       "      <td>1.0</td>\n",
       "      <td>2.163</td>\n",
       "      <td>3.866</td>\n",
       "      <td>3.219</td>\n",
       "      <td>4.0</td>\n",
       "      <td>1.0</td>\n",
       "    </tr>\n",
       "    <tr>\n",
       "      <th>199</th>\n",
       "      <td>61.0</td>\n",
       "      <td>50.0</td>\n",
       "      <td>16.0</td>\n",
       "      <td>190.0</td>\n",
       "      <td>2.0</td>\n",
       "      <td>22.0</td>\n",
       "      <td>1.0</td>\n",
       "      <td>1.0</td>\n",
       "      <td>1.0</td>\n",
       "      <td>16.85</td>\n",
       "      <td>...</td>\n",
       "      <td>0.0</td>\n",
       "      <td>1.0</td>\n",
       "      <td>0.0</td>\n",
       "      <td>0.0</td>\n",
       "      <td>1.0</td>\n",
       "      <td>2.824</td>\n",
       "      <td>3.240</td>\n",
       "      <td>5.247</td>\n",
       "      <td>2.0</td>\n",
       "      <td>0.0</td>\n",
       "    </tr>\n",
       "  </tbody>\n",
       "</table>\n",
       "<p>200 rows × 28 columns</p>\n",
       "</div>"
      ],
      "text/plain": [
       "     tenure   age  address  income   ed  employ  equip  callcard  wireless  \\\n",
       "0      11.0  33.0      7.0   136.0  5.0     5.0    0.0       1.0       1.0   \n",
       "1      33.0  33.0     12.0    33.0  2.0     0.0    0.0       0.0       0.0   \n",
       "2      23.0  30.0      9.0    30.0  1.0     2.0    0.0       0.0       0.0   \n",
       "3      38.0  35.0      5.0    76.0  2.0    10.0    1.0       1.0       1.0   \n",
       "4       7.0  35.0     14.0    80.0  2.0    15.0    0.0       1.0       0.0   \n",
       "..      ...   ...      ...     ...  ...     ...    ...       ...       ...   \n",
       "195    55.0  44.0     24.0    83.0  1.0    23.0    0.0       1.0       0.0   \n",
       "196    34.0  23.0      3.0    24.0  1.0     7.0    0.0       1.0       0.0   \n",
       "197     6.0  32.0     10.0    47.0  1.0    10.0    0.0       1.0       0.0   \n",
       "198    24.0  30.0      0.0    25.0  4.0     5.0    0.0       1.0       1.0   \n",
       "199    61.0  50.0     16.0   190.0  2.0    22.0    1.0       1.0       1.0   \n",
       "\n",
       "     longmon  ...  pager  internet  callwait  confer  ebill  loglong  logtoll  \\\n",
       "0       4.40  ...    1.0       0.0       1.0     1.0    0.0    1.482    3.033   \n",
       "1       9.45  ...    0.0       0.0       0.0     0.0    0.0    2.246    3.240   \n",
       "2       6.30  ...    0.0       0.0       0.0     1.0    0.0    1.841    3.240   \n",
       "3       6.05  ...    1.0       1.0       1.0     1.0    1.0    1.800    3.807   \n",
       "4       7.10  ...    0.0       0.0       1.0     1.0    0.0    1.960    3.091   \n",
       "..       ...  ...    ...       ...       ...     ...    ...      ...      ...   \n",
       "195    17.35  ...    0.0       0.0       0.0     1.0    0.0    2.854    3.199   \n",
       "196     6.00  ...    0.0       0.0       1.0     1.0    0.0    1.792    3.332   \n",
       "197     3.85  ...    0.0       0.0       1.0     1.0    0.0    1.348    3.168   \n",
       "198     8.70  ...    1.0       1.0       1.0     1.0    1.0    2.163    3.866   \n",
       "199    16.85  ...    0.0       1.0       0.0     0.0    1.0    2.824    3.240   \n",
       "\n",
       "     lninc  custcat  churn  \n",
       "0    4.913      4.0    1.0  \n",
       "1    3.497      1.0    1.0  \n",
       "2    3.401      3.0    0.0  \n",
       "3    4.331      4.0    0.0  \n",
       "4    4.382      3.0    0.0  \n",
       "..     ...      ...    ...  \n",
       "195  4.419      3.0    0.0  \n",
       "196  3.178      3.0    0.0  \n",
       "197  3.850      3.0    0.0  \n",
       "198  3.219      4.0    1.0  \n",
       "199  5.247      2.0    0.0  \n",
       "\n",
       "[200 rows x 28 columns]"
      ]
     },
     "execution_count": 6,
     "metadata": {},
     "output_type": "execute_result"
    }
   ],
   "source": [
    "churn_df = pd.read_csv(\"https://s3-api.us-geo.objectstorage.softlayer.net/cf-courses-data/CognitiveClass/ML0101ENv3/labs/ChurnData.csv\")\n",
    "churn_df"
   ]
  },
  {
   "cell_type": "code",
   "execution_count": 8,
   "metadata": {},
   "outputs": [
    {
     "data": {
      "text/html": [
       "<div>\n",
       "<style scoped>\n",
       "    .dataframe tbody tr th:only-of-type {\n",
       "        vertical-align: middle;\n",
       "    }\n",
       "\n",
       "    .dataframe tbody tr th {\n",
       "        vertical-align: top;\n",
       "    }\n",
       "\n",
       "    .dataframe thead th {\n",
       "        text-align: right;\n",
       "    }\n",
       "</style>\n",
       "<table border=\"1\" class=\"dataframe\">\n",
       "  <thead>\n",
       "    <tr style=\"text-align: right;\">\n",
       "      <th></th>\n",
       "      <th>tenure</th>\n",
       "      <th>age</th>\n",
       "      <th>address</th>\n",
       "      <th>income</th>\n",
       "      <th>ed</th>\n",
       "      <th>employ</th>\n",
       "      <th>equip</th>\n",
       "      <th>callcard</th>\n",
       "      <th>wireless</th>\n",
       "      <th>churn</th>\n",
       "    </tr>\n",
       "  </thead>\n",
       "  <tbody>\n",
       "    <tr>\n",
       "      <th>0</th>\n",
       "      <td>11.0</td>\n",
       "      <td>33.0</td>\n",
       "      <td>7.0</td>\n",
       "      <td>136.0</td>\n",
       "      <td>5.0</td>\n",
       "      <td>5.0</td>\n",
       "      <td>0.0</td>\n",
       "      <td>1.0</td>\n",
       "      <td>1.0</td>\n",
       "      <td>1</td>\n",
       "    </tr>\n",
       "    <tr>\n",
       "      <th>1</th>\n",
       "      <td>33.0</td>\n",
       "      <td>33.0</td>\n",
       "      <td>12.0</td>\n",
       "      <td>33.0</td>\n",
       "      <td>2.0</td>\n",
       "      <td>0.0</td>\n",
       "      <td>0.0</td>\n",
       "      <td>0.0</td>\n",
       "      <td>0.0</td>\n",
       "      <td>1</td>\n",
       "    </tr>\n",
       "    <tr>\n",
       "      <th>2</th>\n",
       "      <td>23.0</td>\n",
       "      <td>30.0</td>\n",
       "      <td>9.0</td>\n",
       "      <td>30.0</td>\n",
       "      <td>1.0</td>\n",
       "      <td>2.0</td>\n",
       "      <td>0.0</td>\n",
       "      <td>0.0</td>\n",
       "      <td>0.0</td>\n",
       "      <td>0</td>\n",
       "    </tr>\n",
       "    <tr>\n",
       "      <th>3</th>\n",
       "      <td>38.0</td>\n",
       "      <td>35.0</td>\n",
       "      <td>5.0</td>\n",
       "      <td>76.0</td>\n",
       "      <td>2.0</td>\n",
       "      <td>10.0</td>\n",
       "      <td>1.0</td>\n",
       "      <td>1.0</td>\n",
       "      <td>1.0</td>\n",
       "      <td>0</td>\n",
       "    </tr>\n",
       "    <tr>\n",
       "      <th>4</th>\n",
       "      <td>7.0</td>\n",
       "      <td>35.0</td>\n",
       "      <td>14.0</td>\n",
       "      <td>80.0</td>\n",
       "      <td>2.0</td>\n",
       "      <td>15.0</td>\n",
       "      <td>0.0</td>\n",
       "      <td>1.0</td>\n",
       "      <td>0.0</td>\n",
       "      <td>0</td>\n",
       "    </tr>\n",
       "  </tbody>\n",
       "</table>\n",
       "</div>"
      ],
      "text/plain": [
       "   tenure   age  address  income   ed  employ  equip  callcard  wireless  \\\n",
       "0    11.0  33.0      7.0   136.0  5.0     5.0    0.0       1.0       1.0   \n",
       "1    33.0  33.0     12.0    33.0  2.0     0.0    0.0       0.0       0.0   \n",
       "2    23.0  30.0      9.0    30.0  1.0     2.0    0.0       0.0       0.0   \n",
       "3    38.0  35.0      5.0    76.0  2.0    10.0    1.0       1.0       1.0   \n",
       "4     7.0  35.0     14.0    80.0  2.0    15.0    0.0       1.0       0.0   \n",
       "\n",
       "   churn  \n",
       "0      1  \n",
       "1      1  \n",
       "2      0  \n",
       "3      0  \n",
       "4      0  "
      ]
     },
     "execution_count": 8,
     "metadata": {},
     "output_type": "execute_result"
    }
   ],
   "source": [
    "# Selección y pre-procesamiento de datos\n",
    "\n",
    "# Seleccionemos algunas características para el modelado. \n",
    "\n",
    "# También cambiemos el tipo de dato del objetivo (target) \n",
    "# para que sea un número entero (integer), \n",
    "# ya que es un requerimiento del algoritmo skitlearn:\n",
    "\n",
    "\n",
    "churn_df = churn_df[['tenure', 'age', 'address', 'income', 'ed', 'employ', 'equip',   'callcard', 'wireless','churn']]\n",
    "churn_df['churn'] = churn_df['churn'].astype('int')\n",
    "churn_df.head()"
   ]
  },
  {
   "cell_type": "code",
   "execution_count": 11,
   "metadata": {},
   "outputs": [
    {
     "name": "stdout",
     "output_type": "stream",
     "text": [
      "En este dataset esta compuesto por :  (200, 10) Filas y columnas respctivamente\n"
     ]
    }
   ],
   "source": [
    "# Práctica\n",
    "# ¿Cuántas filas y columnas en total hay en este set de datos? ¿Cual es el nombre de las columnas?\n",
    "\n",
    "print(\"En este dataset esta compuesto por : \", churn_df.shape, 'Filas y columnas respctivamente')"
   ]
  },
  {
   "cell_type": "code",
   "execution_count": 12,
   "metadata": {},
   "outputs": [
    {
     "data": {
      "text/plain": [
       "array([[ 11.,  33.,   7., 136.,   5.,   5.,   0.],\n",
       "       [ 33.,  33.,  12.,  33.,   2.,   0.,   0.],\n",
       "       [ 23.,  30.,   9.,  30.,   1.,   2.,   0.],\n",
       "       [ 38.,  35.,   5.,  76.,   2.,  10.,   1.],\n",
       "       [  7.,  35.,  14.,  80.,   2.,  15.,   0.]])"
      ]
     },
     "execution_count": 12,
     "metadata": {},
     "output_type": "execute_result"
    }
   ],
   "source": [
    "# Definamos X, e y para nuestro set de datos:\n",
    "X = np.asarray(churn_df[['tenure', 'age', 'address', 'income', 'ed', 'employ', 'equip']])\n",
    "X[0:5]"
   ]
  },
  {
   "cell_type": "code",
   "execution_count": 13,
   "metadata": {},
   "outputs": [
    {
     "data": {
      "text/plain": [
       "array([1, 1, 0, 0, 0])"
      ]
     },
     "execution_count": 13,
     "metadata": {},
     "output_type": "execute_result"
    }
   ],
   "source": [
    "y = np.asarray(churn_df['churn'])\n",
    "y [0:5]"
   ]
  },
  {
   "cell_type": "code",
   "execution_count": 14,
   "metadata": {},
   "outputs": [
    {
     "data": {
      "text/plain": [
       "array([[-1.13518441, -0.62595491, -0.4588971 ,  0.4751423 ,  1.6961288 ,\n",
       "        -0.58477841, -0.85972695],\n",
       "       [-0.11604313, -0.62595491,  0.03454064, -0.32886061, -0.6433592 ,\n",
       "        -1.14437497, -0.85972695],\n",
       "       [-0.57928917, -0.85594447, -0.261522  , -0.35227817, -1.42318853,\n",
       "        -0.92053635, -0.85972695],\n",
       "       [ 0.11557989, -0.47262854, -0.65627219,  0.00679109, -0.6433592 ,\n",
       "        -0.02518185,  1.16316   ],\n",
       "       [-1.32048283, -0.47262854,  0.23191574,  0.03801451, -0.6433592 ,\n",
       "         0.53441472, -0.85972695]])"
      ]
     },
     "execution_count": 14,
     "metadata": {},
     "output_type": "execute_result"
    }
   ],
   "source": [
    "# También, normalicemos el set de datos:\n",
    "from sklearn import preprocessing\n",
    "X = preprocessing.StandardScaler().fit(X).transform(X)\n",
    "X[0:5]"
   ]
  },
  {
   "cell_type": "code",
   "execution_count": 15,
   "metadata": {},
   "outputs": [
    {
     "name": "stdout",
     "output_type": "stream",
     "text": [
      "Train set: (160, 7) (160,)\n",
      "Test set: (40, 7) (40,)\n"
     ]
    }
   ],
   "source": [
    "# Entrenar/Probar el set de datos\n",
    "# Ahora, dividamos nuestro set de datos en dos sets, entrenamiento y prueba:\n",
    "\n",
    "from sklearn.model_selection import train_test_split\n",
    "\n",
    "X_train, X_test, y_train, y_test = train_test_split( X, y, test_size=0.2, random_state=4)\n",
    "\n",
    "print ('Train set:', X_train.shape,  y_train.shape)\n",
    "print ('Test set:', X_test.shape,  y_test.shape)"
   ]
  },
  {
   "cell_type": "code",
   "execution_count": null,
   "metadata": {},
   "outputs": [],
   "source": [
    "# Modelando (Regresión Logística con Scikit-learn)\n",
    "\n",
    "# Construyamos nuestro modelo utilizando LogisticRegression con el package Scikit-learn. \n",
    "# Esta función implementa regresión logística y puede usar distintos optimizadores \n",
    "# numéricos para encontrar parámetros, a saber, ‘newton-cg’, ‘lbfgs’, ‘liblinear’, ‘sag’, ‘saga’ solvers. \n",
    "# Puedes también encontrar más información sobre los pros y contras de \n",
    "# estos optimizadores si buscas en internet.\n",
    "\n",
    "# La versión de Regresión Logística en, soporta regularización. \n",
    "# Esto es, una técnica que soluciona problemas de sobreajuste en modelos de machine learning. \n",
    "# El parámetro C indica fuerza de regularización inversa la cual debe ser un número \n",
    "# flotante positivo. Valores más pequeños indican regularización más fuerte. \n",
    "# Now lets fit our model with train set:"
   ]
  },
  {
   "cell_type": "code",
   "execution_count": 16,
   "metadata": {},
   "outputs": [
    {
     "data": {
      "text/plain": [
       "LogisticRegression(C=0.01, solver='liblinear')"
      ]
     },
     "execution_count": 16,
     "metadata": {},
     "output_type": "execute_result"
    }
   ],
   "source": [
    "# Creemos el Objeto o Instacia de clase y lo entrenamos usando la notacion del punto\n",
    "from sklearn.linear_model import LogisticRegression\n",
    "from sklearn.metrics import confusion_matrix\n",
    "LR = LogisticRegression(C=0.01, solver='liblinear').fit(X_train,y_train)\n",
    "LR"
   ]
  },
  {
   "cell_type": "code",
   "execution_count": 19,
   "metadata": {},
   "outputs": [
    {
     "data": {
      "text/plain": [
       "array([0, 0, 0, 0, 0, 0, 0, 0, 1, 0])"
      ]
     },
     "execution_count": 19,
     "metadata": {},
     "output_type": "execute_result"
    }
   ],
   "source": [
    "#Ahora, podremos predecir usando nuestro set de prueba:\n",
    "yhat = LR.predict(X_test)\n",
    "yhat[0:10]"
   ]
  },
  {
   "cell_type": "code",
   "execution_count": 21,
   "metadata": {},
   "outputs": [
    {
     "data": {
      "text/plain": [
       "array([0, 0, 1, 0, 1, 1, 1, 0, 1, 1])"
      ]
     },
     "execution_count": 21,
     "metadata": {},
     "output_type": "execute_result"
    }
   ],
   "source": [
    "y_test[0:10]"
   ]
  },
  {
   "cell_type": "code",
   "execution_count": 23,
   "metadata": {},
   "outputs": [
    {
     "data": {
      "text/plain": [
       "array([1, 1, 0, 0, 0, 0, 0, 0, 0, 0])"
      ]
     },
     "execution_count": 23,
     "metadata": {},
     "output_type": "execute_result"
    }
   ],
   "source": [
    "y[0:10]"
   ]
  },
  {
   "cell_type": "code",
   "execution_count": 25,
   "metadata": {},
   "outputs": [
    {
     "data": {
      "text/plain": [
       "array([[0.54132919, 0.45867081],\n",
       "       [0.60593357, 0.39406643],\n",
       "       [0.56277713, 0.43722287],\n",
       "       [0.63432489, 0.36567511],\n",
       "       [0.56431839, 0.43568161],\n",
       "       [0.55386646, 0.44613354],\n",
       "       [0.52237207, 0.47762793],\n",
       "       [0.60514349, 0.39485651],\n",
       "       [0.41069572, 0.58930428],\n",
       "       [0.6333873 , 0.3666127 ]])"
      ]
     },
     "execution_count": 25,
     "metadata": {},
     "output_type": "execute_result"
    }
   ],
   "source": [
    "# predict_proba devuelve estimaciones para todas las clases. \n",
    "# La primer columna es la probabilidad de la clase 1, P(Y=1|X), \n",
    "# y la segunda columna es la probabilidad de la clase 0, P(Y=0|X):\n",
    "yhat_prob = LR.predict_proba(X_test)\n",
    "yhat_prob[0:10]"
   ]
  },
  {
   "cell_type": "code",
   "execution_count": 35,
   "metadata": {},
   "outputs": [
    {
     "data": {
      "text/plain": [
       "0.375"
      ]
     },
     "execution_count": 35,
     "metadata": {},
     "output_type": "execute_result"
    }
   ],
   "source": [
    "# Evaluación:\n",
    "\n",
    "# índice jaccard:\n",
    "\n",
    "# Probemos con el índice jaccard para la evaluación de precisión. \n",
    "# Podemos definir como jaccard al tamaño de la intersección dividida \n",
    "# por el tamaño de la unión de dos set de etiquetas. Si todo el set de \n",
    "# etiquetas de muestra predichas coinciden con el set real de etiquetas, \n",
    "# entonces la precisión es 1.0; sino, sería 0.0.\n",
    "from sklearn import metrics\n",
    "from sklearn.metrics import jaccard_score\n",
    "jaccard_score(y_test, yhat)"
   ]
  },
  {
   "cell_type": "code",
   "execution_count": null,
   "metadata": {},
   "outputs": [],
   "source": [
    "### Matriz de confusión\n",
    "# Otra forma de mirar la precisión del clasificador es ver la __matriz de confusión__."
   ]
  },
  {
   "cell_type": "code",
   "execution_count": 36,
   "metadata": {},
   "outputs": [
    {
     "name": "stdout",
     "output_type": "stream",
     "text": [
      "[[ 6  9]\n",
      " [ 1 24]]\n"
     ]
    }
   ],
   "source": [
    "from sklearn.metrics import classification_report, confusion_matrix\n",
    "import itertools\n",
    "def plot_confusion_matrix(cm, classes,\n",
    "                          normalize=False,\n",
    "                          title='Confusion matrix',\n",
    "                          cmap=plt.cm.Blues):\n",
    "    \"\"\"\n",
    "    Esta función muestra y dibuja la matriz de confusión.\n",
    "    La normalización se puede aplicar estableciendo el valor `normalize=True`.\n",
    "    \"\"\"\n",
    "    if normalize:\n",
    "        cm = cm.astype('float') / cm.sum(axis=1)[:, np.newaxis]\n",
    "        print(\"Matriz de confusión normalizada\")\n",
    "    else:\n",
    "        print('Matriz de confusión sin normalización')\n",
    "\n",
    "    print(cm)\n",
    "\n",
    "    plt.imshow(cm, interpolation='nearest', cmap=cmap)\n",
    "    plt.title(title)\n",
    "    plt.colorbar()\n",
    "    tick_marks = np.arange(len(classes))\n",
    "    plt.xticks(tick_marks, classes, rotation=45)\n",
    "    plt.yticks(tick_marks, classes)\n",
    "\n",
    "    fmt = '.2f' if normalize else 'd'\n",
    "    thresh = cm.max() / 2.\n",
    "    for i, j in itertools.product(range(cm.shape[0]), range(cm.shape[1])):\n",
    "        plt.text(j, i, format(cm[i, j], fmt),\n",
    "                 horizontalalignment=\"center\",\n",
    "                 color=\"white\" if cm[i, j] > thresh else \"black\")\n",
    "\n",
    "    plt.tight_layout()\n",
    "    plt.ylabel('Etiqueta Real')\n",
    "    plt.xlabel('Etiqueta Predicha')\n",
    "print(confusion_matrix(y_test, yhat, labels=[1,0]))"
   ]
  },
  {
   "cell_type": "code",
   "execution_count": 37,
   "metadata": {},
   "outputs": [
    {
     "name": "stdout",
     "output_type": "stream",
     "text": [
      "Matriz de confusión sin normalización\n",
      "[[ 6  9]\n",
      " [ 1 24]]\n"
     ]
    },
    {
     "data": {
      "image/png": "[encoded data removed]",
      "text/plain": [
       "<Figure size 432x288 with 2 Axes>"
      ]
     },
     "metadata": {
      "needs_background": "light"
     },
     "output_type": "display_data"
    }
   ],
   "source": [
    "# Calcular la matriz de confusión\n",
    "cnf_matrix = confusion_matrix(y_test, yhat, labels=[1,0])\n",
    "np.set_printoptions(precision=2)\n",
    "\n",
    "\n",
    "# Dibujar la matriz de confusión no normalizada\n",
    "plt.figure()\n",
    "plot_confusion_matrix(cnf_matrix, classes=['churn=1','churn=0'],normalize= False,  title='Matriz de confusión')"
   ]
  },
  {
   "cell_type": "code",
   "execution_count": null,
   "metadata": {},
   "outputs": [],
   "source": [
    "# Observa la primer fila. Ahí están los clientes cuyo \n",
    "# valor churn en el set de prueba es 1. Como podrás calcular, \n",
    "# de 40 clientes, el valor churn de 15 de ellos es 1. Y de otros \n",
    "# 15, el clasificador predijo que 6 de ellos son 1 y 9 0.\n",
    "\n",
    "# Quiere decir que, para 6 clientes, el valor actual de churn fue 1 \n",
    "# en el set de pruebas y el clasificador los predijo correctamente como 1. \n",
    "# Sin embargo, mientras la etiqueta actual de 9 clientes era 1, \n",
    "# el clasificador los predijo como 0, lo cual no es muy bueno. \n",
    "# Lo podemos considerar como un error del modelo para la primer fila.\n",
    "\n",
    "# ¿Qué pasa con los clientes con valor churn 0? Miremos la segunda \n",
    "# fila. Parece que hay 25 clientes con valor churn 0.\n",
    "\n",
    "# El clasificador predijo correctamente 24 de ellos como 0 y uno \n",
    "# de ellos equivocadamente como 1. Así que ha hecho un buen trabajo \n",
    "# prediciendo los clientes con churn 0. Una ventaja de la matriz de \n",
    "# confusión es que muestra la abilidad del modelo para correctamente \n",
    "# predecir o separar las clases. En el caso de clasificador binario, \n",
    "# como el ejemplo, podemos entender a estos números como la cantidad \n",
    "# de positivos verdaderos, negativos verdaderos y negativos falsos."
   ]
  },
  {
   "cell_type": "code",
   "execution_count": 38,
   "metadata": {},
   "outputs": [
    {
     "name": "stdout",
     "output_type": "stream",
     "text": [
      "              precision    recall  f1-score   support\n",
      "\n",
      "           0       0.73      0.96      0.83        25\n",
      "           1       0.86      0.40      0.55        15\n",
      "\n",
      "    accuracy                           0.75        40\n",
      "   macro avg       0.79      0.68      0.69        40\n",
      "weighted avg       0.78      0.75      0.72        40\n",
      "\n"
     ]
    }
   ],
   "source": [
    "print (classification_report(y_test, yhat))"
   ]
  },
  {
   "cell_type": "code",
   "execution_count": null,
   "metadata": {},
   "outputs": [],
   "source": [
    "# Partiendo de la cantidad de cada sección podemos calcular la precisión y el grado(recall) de cada etiqueta:\n",
    "\n",
    "# Precision es una medida de certeza basada en una etiqueta predicha. \n",
    "# Se define de esta forma: precision = TP / (TP + FP)\n",
    "\n",
    "# Recall es un grado positivo verdadero. \n",
    "# Se define de esta forma: Recall = TP / (TP + FN)\n",
    "\n",
    "# Por lo tanto, podemos calcular la precisión y grado de cada clase.\n",
    "\n",
    "# F1 score: Ahora estamos en condiciones de calcular los puntajes F1 para \n",
    "#     cada etiqueta basada en la precisión y grado de cada etiqueta.\n",
    "\n",
    "# El puntaje F1 es el promedio armónico de la precisión y grado, donde un \n",
    "# grado F1 alcanza su mejor valor en 1 (precisión y grado perfectos) y \n",
    "# peor escenario en 0. Es una buena forma de mostrar que un clasificador \n",
    "# tiene un buen valor tanto para la precisión como para el grado.\n",
    "\n",
    "# Y finalmente, podemos decir que la exactitud promedio para este clasificador \n",
    "# es el promedio del score f1 para ambas etiquetas, cuyo valor es is 0.72 en nuestro caso."
   ]
  },
  {
   "cell_type": "code",
   "execution_count": null,
   "metadata": {},
   "outputs": [],
   "source": []
  },
  {
   "cell_type": "code",
   "execution_count": null,
   "metadata": {},
   "outputs": [],
   "source": []
  },
  {
   "cell_type": "code",
   "execution_count": null,
   "metadata": {},
   "outputs": [],
   "source": []
  },
  {
   "cell_type": "code",
   "execution_count": null,
   "metadata": {},
   "outputs": [],
   "source": []
  },
  {
   "cell_type": "code",
   "execution_count": null,
   "metadata": {},
   "outputs": [],
   "source": []
  },
  {
   "cell_type": "code",
   "execution_count": null,
   "metadata": {},
   "outputs": [],
   "source": []
  },
  {
   "cell_type": "code",
   "execution_count": null,
   "metadata": {},
   "outputs": [],
   "source": []
  },
  {
   "cell_type": "code",
   "execution_count": null,
   "metadata": {},
   "outputs": [],
   "source": []
  },
  {
   "cell_type": "code",
   "execution_count": null,
   "metadata": {},
   "outputs": [],
   "source": []
  },
  {
   "cell_type": "code",
   "execution_count": null,
   "metadata": {},
   "outputs": [],
   "source": []
  },
  {
   "cell_type": "code",
   "execution_count": null,
   "metadata": {},
   "outputs": [],
   "source": []
  },
  {
   "cell_type": "code",
   "execution_count": null,
   "metadata": {},
   "outputs": [],
   "source": []
  }
 ],
 "metadata": {
  "kernelspec": {
   "display_name": "Python 3",
   "language": "python",
   "name": "python3"
  },
  "language_info": {
   "codemirror_mode": {
    "name": "ipython",
    "version": 3
   },
   "file_extension": ".py",
   "mimetype": "text/x-python",
   "name": "python",
   "nbconvert_exporter": "python",
   "pygments_lexer": "ipython3",
   "version": "3.8.3"
  }
 },
 "nbformat": 4,
 "nbformat_minor": 4
}
